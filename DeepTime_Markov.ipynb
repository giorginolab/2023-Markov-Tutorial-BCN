{
  "nbformat": 4,
  "nbformat_minor": 0,
  "metadata": {
    "colab": {
      "name": "DeepTime: Markov",
      "provenance": [],
      "authorship_tag": "ABX9TyNRkxAbvZBNH13d5xmYNsbq",
      "include_colab_link": true
    },
    "kernelspec": {
      "name": "python3",
      "display_name": "Python 3"
    },
    "language_info": {
      "name": "python"
    }
  },
  "cells": [
    {
      "cell_type": "markdown",
      "metadata": {
        "id": "view-in-github",
        "colab_type": "text"
      },
      "source": [
        "<a href=\"https://colab.research.google.com/github/giorginolab/Markov-Tutorial-UniPD-2023/blob/main/DeepTime_Markov.ipynb\" target=\"_parent\"><img src=\"https://colab.research.google.com/assets/colab-badge.svg\" alt=\"Open In Colab\"/></a>"
      ]
    },
    {
      "cell_type": "markdown",
      "source": [
        "# Tutorial on Markov Models \n",
        "\n",
        "Toni Giorgino - toni.giorgino@cnr.it\n",
        "\n",
        "This notebook provides an overview on how to use the DeepTime library to estimate Markov Models.\n",
        "\n",
        "Useful links:\n",
        "\n",
        "* DeepTime documentation: https://deeptime-ml.github.io\n",
        "* Repository: https://github.com/deeptime-ml/deeptime\n",
        "* Paper: Hoffmann M, Scherer M, Hempel T, Mardt A, Silva B de, Husic BE, et al. Deeptime: a Python library for machine learning dynamical models from time series data. Mach Learn: Sci Technol. 2021 Dec;3(1):015009. [10.1088/2632-2153/ac3de0](https://iopscience.iop.org/article/10.1088/2632-2153/ac3de0)\n",
        "\n",
        "## Transition counting\n",
        "\n",
        "For a very simple introduction on the counting functions of  the library, see https://deeptime-ml.github.io/latest/notebooks/transition-counting.html .\n",
        "\n",
        "\n"
      ],
      "metadata": {
        "id": "VA6IORcJS1Gb"
      }
    },
    {
      "cell_type": "code",
      "execution_count": 1,
      "metadata": {
        "colab": {
          "base_uri": "https://localhost:8080/"
        },
        "id": "C0V2E2Y1SvWK",
        "outputId": "745dc477-85cd-48fd-d275-4f707f17296a"
      },
      "outputs": [
        {
          "output_type": "stream",
          "name": "stdout",
          "text": [
            "Looking in indexes: https://pypi.org/simple, https://us-python.pkg.dev/colab-wheels/public/simple/\n",
            "Collecting deeptime\n",
            "  Downloading deeptime-0.4.4-cp39-cp39-manylinux_2_17_x86_64.manylinux2014_x86_64.whl (2.1 MB)\n",
            "\u001b[2K     \u001b[90m━━━━━━━━━━━━━━━━━━━━━━━━━━━━━━━━━━━━━━━━\u001b[0m \u001b[32m2.1/2.1 MB\u001b[0m \u001b[31m20.6 MB/s\u001b[0m eta \u001b[36m0:00:00\u001b[0m\n",
            "\u001b[?25hRequirement already satisfied: numpy>=1.20 in /usr/local/lib/python3.9/dist-packages (from deeptime) (1.22.4)\n",
            "Requirement already satisfied: scipy>=1.9.0 in /usr/local/lib/python3.9/dist-packages (from deeptime) (1.10.1)\n",
            "Requirement already satisfied: threadpoolctl>=3.1.0 in /usr/local/lib/python3.9/dist-packages (from deeptime) (3.1.0)\n",
            "Requirement already satisfied: scikit-learn>=1.1 in /usr/local/lib/python3.9/dist-packages (from deeptime) (1.2.2)\n",
            "Requirement already satisfied: joblib>=1.1.1 in /usr/local/lib/python3.9/dist-packages (from scikit-learn>=1.1->deeptime) (1.1.1)\n",
            "Installing collected packages: deeptime\n",
            "Successfully installed deeptime-0.4.4\n"
          ]
        }
      ],
      "source": [
        "!pip install deeptime"
      ]
    },
    {
      "cell_type": "code",
      "source": [
        "import numpy as np\n",
        "import deeptime\n",
        "from deeptime.markov import TransitionCountEstimator\n",
        "import matplotlib.pyplot as plt\n",
        "import networkx as nx\n",
        "\n",
        "count_estimator = TransitionCountEstimator(\n",
        "    lagtime=1,\n",
        "    count_mode=\"sliding\"\n",
        ")"
      ],
      "metadata": {
        "id": "r69trXjBUIhq"
      },
      "execution_count": 2,
      "outputs": []
    },
    {
      "cell_type": "code",
      "source": [
        "trajectory = np.array([0, 1, 2, 3, 4, 5, 4, 3, 2, 1, 0, 1, 2, 3, 4, 5, 6, 5, 4, 3, 2, 1, 7])"
      ],
      "metadata": {
        "id": "QIiXviKbbL0C"
      },
      "execution_count": 3,
      "outputs": []
    },
    {
      "cell_type": "code",
      "source": [
        "plt.plot(trajectory,\"o-\")"
      ],
      "metadata": {
        "colab": {
          "base_uri": "https://localhost:8080/",
          "height": 283
        },
        "id": "h1eRUunib1nK",
        "outputId": "0212a651-c784-4886-fb78-c801fd2a8b70"
      },
      "execution_count": 4,
      "outputs": [
        {
          "output_type": "execute_result",
          "data": {
            "text/plain": [
              "[<matplotlib.lines.Line2D at 0x7ff53e120d30>]"
            ]
          },
          "metadata": {},
          "execution_count": 4
        },
        {
          "output_type": "display_data",
          "data": {
            "text/plain": [
              "<Figure size 432x288 with 1 Axes>"
            ],
            "image/png": "[encoded data removed]"
          },
          "metadata": {
            "needs_background": "light"
          }
        }
      ]
    },
    {
      "cell_type": "code",
      "source": [
        "counts = count_estimator.fit(trajectory).fetch_model()  # fit and fetch the model"
      ],
      "metadata": {
        "id": "dBdpJDmNaYVI"
      },
      "execution_count": 5,
      "outputs": []
    },
    {
      "cell_type": "code",
      "source": [
        "counts.count_matrix"
      ],
      "metadata": {
        "colab": {
          "base_uri": "https://localhost:8080/"
        },
        "id": "NKNHFY_tbTfJ",
        "outputId": "5ed534fd-7c1f-4886-c328-d0acc4986b2d"
      },
      "execution_count": 6,
      "outputs": [
        {
          "output_type": "execute_result",
          "data": {
            "text/plain": [
              "array([[0., 2., 0., 0., 0., 0., 0., 0.],\n",
              "       [1., 0., 2., 0., 0., 0., 0., 1.],\n",
              "       [0., 2., 0., 2., 0., 0., 0., 0.],\n",
              "       [0., 0., 2., 0., 2., 0., 0., 0.],\n",
              "       [0., 0., 0., 2., 0., 2., 0., 0.],\n",
              "       [0., 0., 0., 0., 2., 0., 1., 0.],\n",
              "       [0., 0., 0., 0., 0., 1., 0., 0.],\n",
              "       [0., 0., 0., 0., 0., 0., 0., 0.]])"
            ]
          },
          "metadata": {},
          "execution_count": 6
        }
      ]
    },
    {
      "cell_type": "code",
      "source": [
        "counts.state_histogram"
      ],
      "metadata": {
        "colab": {
          "base_uri": "https://localhost:8080/"
        },
        "id": "sbUeFjg8biDC",
        "outputId": "749f2a9c-72db-49ac-ce56-dd7c025deb73"
      },
      "execution_count": 7,
      "outputs": [
        {
          "output_type": "execute_result",
          "data": {
            "text/plain": [
              "array([2, 4, 4, 4, 4, 3, 1, 1])"
            ]
          },
          "metadata": {},
          "execution_count": 7
        }
      ]
    },
    {
      "cell_type": "code",
      "source": [
        "plt.bar(np.arange(len(counts.state_histogram)),\n",
        "        counts.state_histogram)"
      ],
      "metadata": {
        "colab": {
          "base_uri": "https://localhost:8080/",
          "height": 283
        },
        "id": "MhbKGcSlRjf1",
        "outputId": "f1f0b0fe-4722-4bec-af68-9ce97a54186f"
      },
      "execution_count": 8,
      "outputs": [
        {
          "output_type": "execute_result",
          "data": {
            "text/plain": [
              "<BarContainer object of 8 artists>"
            ]
          },
          "metadata": {},
          "execution_count": 8
        },
        {
          "output_type": "display_data",
          "data": {
            "text/plain": [
              "<Figure size 432x288 with 1 Axes>"
            ],
            "image/png": "[encoded data removed]"
          },
          "metadata": {
            "needs_background": "light"
          }
        }
      ]
    },
    {
      "cell_type": "code",
      "source": [
        "G = nx.from_numpy_array(counts.count_matrix, create_using=nx.DiGraph())\n",
        "pos = nx.circular_layout(G)\n",
        "nx.draw_circular(G, node_color='#90EE90')\n",
        "nx.draw_networkx_labels(G, pos, labels={i: i for i in G.nodes()}, font_size=15)\n",
        "plt.show()\n"
      ],
      "metadata": {
        "colab": {
          "base_uri": "https://localhost:8080/",
          "height": 319
        },
        "id": "qiCWc4epbkfL",
        "outputId": "66bbb9e9-dddc-4bed-aa65-1e9ce302a1cc"
      },
      "execution_count": 10,
      "outputs": [
        {
          "output_type": "display_data",
          "data": {
            "text/plain": [
              "<Figure size 432x288 with 1 Axes>"
            ],
            "image/png": "[encoded data removed]"
          },
          "metadata": {}
        }
      ]
    },
    {
      "cell_type": "code",
      "source": [
        "import deeptime.markov as markov\n",
        "\n",
        "msm_estimator = markov.msm.MaximumLikelihoodMSM(\n",
        "    reversible=True,\n",
        "    stationary_distribution_constraint=None\n",
        ")"
      ],
      "metadata": {
        "id": "xvTj3jR_bqvE"
      },
      "execution_count": 11,
      "outputs": []
    },
    {
      "cell_type": "code",
      "source": [
        "msm = msm_estimator.fit(counts).fetch_model()"
      ],
      "metadata": {
        "colab": {
          "base_uri": "https://localhost:8080/"
        },
        "id": "CcxwLjmiPcap",
        "outputId": "15d158b2-df4c-4296-8cef-5824e6a67b25"
      },
      "execution_count": 12,
      "outputs": [
        {
          "output_type": "stream",
          "name": "stderr",
          "text": [
            "WARNING:/usr/local/lib/python3.9/dist-packages/deeptime/markov/msm/_maximum_likelihood_msm.py:Skipping state set [7] due to error in estimation: Some row and corresponding column of the count matrix C have zero counts..\n"
          ]
        }
      ]
    },
    {
      "cell_type": "code",
      "source": [
        "msm"
      ],
      "metadata": {
        "colab": {
          "base_uri": "https://localhost:8080/"
        },
        "id": "6RA0ItXcP7yA",
        "outputId": "67d563f8-eeaa-4e72-e98c-dd8273b2e7f9"
      },
      "execution_count": 13,
      "outputs": [
        {
          "output_type": "execute_result",
          "data": {
            "text/plain": [
              "MarkovStateModelCollection-140694052450704:[{'count_models': None,\n",
              "                                            'reversible': True,\n",
              "                                            'stationary_distributions': None,\n",
              "                                            'transition_matrices': None,\n",
              "                                            'transition_matrix_tolerance': 1e-06}]"
            ]
          },
          "metadata": {},
          "execution_count": 13
        }
      ]
    },
    {
      "cell_type": "code",
      "source": [
        "msm.transition_matrix"
      ],
      "metadata": {
        "colab": {
          "base_uri": "https://localhost:8080/"
        },
        "id": "W8xWdbObP91A",
        "outputId": "85d1ba15-a181-4f8f-f9aa-d7bb013f83bb"
      },
      "execution_count": 14,
      "outputs": [
        {
          "output_type": "execute_result",
          "data": {
            "text/plain": [
              "array([[0.        , 1.        , 0.        , 0.        , 0.        ,\n",
              "        0.        , 0.        ],\n",
              "       [0.33333334, 0.        , 0.66666666, 0.        , 0.        ,\n",
              "        0.        , 0.        ],\n",
              "       [0.        , 0.50000001, 0.        , 0.49999999, 0.        ,\n",
              "        0.        , 0.        ],\n",
              "       [0.        , 0.        , 0.50000001, 0.        , 0.49999999,\n",
              "        0.        , 0.        ],\n",
              "       [0.        , 0.        , 0.        , 0.50000001, 0.        ,\n",
              "        0.49999999, 0.        ],\n",
              "       [0.        , 0.        , 0.        , 0.        , 0.66666667,\n",
              "        0.        , 0.33333333],\n",
              "       [0.        , 0.        , 0.        , 0.        , 0.        ,\n",
              "        1.        , 0.        ]])"
            ]
          },
          "metadata": {},
          "execution_count": 14
        }
      ]
    },
    {
      "cell_type": "code",
      "source": [
        "msm.stationary_distribution"
      ],
      "metadata": {
        "colab": {
          "base_uri": "https://localhost:8080/"
        },
        "id": "2kgNdFRsQSrt",
        "outputId": "2972a1ba-c584-49db-e702-4c9234cea8aa"
      },
      "execution_count": 15,
      "outputs": [
        {
          "output_type": "execute_result",
          "data": {
            "text/plain": [
              "array([0.05000001, 0.15000001, 0.20000001, 0.2       , 0.19999999,\n",
              "       0.14999999, 0.05      ])"
            ]
          },
          "metadata": {},
          "execution_count": 15
        }
      ]
    },
    {
      "cell_type": "code",
      "source": [
        "plt.bar(np.arange(len(msm.stationary_distribution)),\n",
        "        msm.stationary_distribution)"
      ],
      "metadata": {
        "colab": {
          "base_uri": "https://localhost:8080/",
          "height": 283
        },
        "id": "X966fGQ1QVKA",
        "outputId": "428a4fa8-b26d-470a-95c1-df2c0834a2d7"
      },
      "execution_count": 16,
      "outputs": [
        {
          "output_type": "execute_result",
          "data": {
            "text/plain": [
              "<BarContainer object of 7 artists>"
            ]
          },
          "metadata": {},
          "execution_count": 16
        },
        {
          "output_type": "display_data",
          "data": {
            "text/plain": [
              "<Figure size 432x288 with 1 Axes>"
            ],
            "image/png": "[encoded data removed]"
          },
          "metadata": {
            "needs_background": "light"
          }
        }
      ]
    },
    {
      "cell_type": "code",
      "source": [],
      "metadata": {
        "id": "BlXqrY0kQlXX"
      },
      "execution_count": null,
      "outputs": []
    }
  ]
}